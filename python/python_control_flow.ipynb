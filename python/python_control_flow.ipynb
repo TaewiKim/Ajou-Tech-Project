{
 "cells": [
  {
   "cell_type": "markdown",
   "metadata": {},
   "source": [
    "Control Flow Examples"
   ]
  },
  {
   "cell_type": "code",
   "execution_count": 1,
   "metadata": {},
   "outputs": [
    {
     "name": "stdout",
     "output_type": "stream",
     "text": [
      "Value of i: 1\n"
     ]
    }
   ],
   "source": [
    "# 1. 조건문 (Conditional Statements)\n",
    "condition = True\n",
    "other_condition = False\n",
    "i = 0\n",
    "\n",
    "if condition:\n",
    "    i += 1\n",
    "elif other_condition:\n",
    "    i += 2\n",
    "else:\n",
    "    i += 3\n",
    "\n",
    "print(\"Value of i:\", i)"
   ]
  },
  {
   "cell_type": "code",
   "execution_count": 2,
   "metadata": {},
   "outputs": [
    {
     "name": "stdout",
     "output_type": "stream",
     "text": [
      "0\n",
      "1\n",
      "2\n",
      "3\n",
      "4\n"
     ]
    }
   ],
   "source": [
    "# 2. 반복문 (Loops)\n",
    "\n",
    "for i in range(5):\n",
    "    print(i)"
   ]
  },
  {
   "cell_type": "code",
   "execution_count": 3,
   "metadata": {},
   "outputs": [
    {
     "name": "stdout",
     "output_type": "stream",
     "text": [
      "0\n",
      "1\n",
      "2\n"
     ]
    }
   ],
   "source": [
    "# 3. 반복문 흐름 제어 (Loop control)\n",
    "\n",
    "for i in range(5):\n",
    "    if i == 3:\n",
    "        break\n",
    "    print(i)\n",
    "else:\n",
    "    print(\"루프 정상 종료\")"
   ]
  },
  {
   "cell_type": "code",
   "execution_count": 4,
   "metadata": {},
   "outputs": [
    {
     "name": "stdout",
     "output_type": "stream",
     "text": [
      "0으로 나눌 수 없습니다.\n",
      "무조건 실행\n"
     ]
    }
   ],
   "source": [
    "# 4. 예외 처리 (Exception Handling)\n",
    "\n",
    "try:\n",
    "    x = 1 / 0\n",
    "except ZeroDivisionError:\n",
    "    print(\"0으로 나눌 수 없습니다.\")\n",
    "else:\n",
    "    print(\"에러가 없을 때 실행\")\n",
    "finally:\n",
    "    print(\"무조건 실행\")\n"
   ]
  },
  {
   "cell_type": "code",
   "execution_count": 6,
   "metadata": {},
   "outputs": [
    {
     "name": "stdout",
     "output_type": "stream",
     "text": [
      "Squares of even numbers: [0, 4, 16, 36, 64]\n"
     ]
    }
   ],
   "source": [
    "# 5. 컴프리헨션 (조건 필터링 포함)\n",
    "\n",
    "squares = [x*x for x in range(10) if x % 2 == 0]\n",
    "print(\"Squares of even numbers:\", squares)"
   ]
  },
  {
   "cell_type": "code",
   "execution_count": 7,
   "metadata": {},
   "outputs": [
    {
     "name": "stdout",
     "output_type": "stream",
     "text": [
      "시작합니다.\n"
     ]
    }
   ],
   "source": [
    "# 6. match-case (Python 3.10+)\n",
    "\n",
    "command = \"start\"\n",
    "\n",
    "match command:\n",
    "    case \"start\":\n",
    "        print(\"시작합니다.\")\n",
    "    case \"stop\":\n",
    "        print(\"멈춥니다.\")\n",
    "    case _:\n",
    "        print(\"알 수 없는 명령어입니다.\")\n"
   ]
  },
  {
   "cell_type": "code",
   "execution_count": null,
   "metadata": {},
   "outputs": [
    {
     "name": "stdout",
     "output_type": "stream",
     "text": [
      "1.0 + 1.0 = 2.0\n"
     ]
    }
   ],
   "source": [
    "# 계산기\n",
    "\n",
    "a = float(input(\"Enter first number: \"))\n",
    "b = float(input(\"Enter second number: \"))\n",
    "operation = input(\"Choose the operation (+, -, *, /): \")\n",
    "\n",
    "if operation == '+':\n",
    "    print(f\"{a} + {b} = {a + b}\")\n",
    "elif operation == '-':\n",
    "    print(f\"{a} - {b} = {a - b}\")\n",
    "elif operation == '*':\n",
    "    print(f\"{a} * {b} = {a * b}\")\n",
    "elif operation == '/':\n",
    "    print(f\"{a} / {b} = {a / b}\")\n",
    "else:\n",
    "    print(\"Invalid operation\")\n"
   ]
  },
  {
   "cell_type": "code",
   "execution_count": null,
   "metadata": {},
   "outputs": [
    {
     "name": "stdout",
     "output_type": "stream",
     "text": [
      "Maximum number is: 10\n"
     ]
    }
   ],
   "source": [
    "# for + if\n",
    "\n",
    "numbers = [2, 4, 6, 8, 10]\n",
    "max_number = numbers[0]\n",
    "for number in numbers:\n",
    "    if number > max_number:\n",
    "        max_number = number\n",
    "print(\"Maximum number is:\", max_number)\n"
   ]
  },
  {
   "cell_type": "markdown",
   "metadata": {},
   "source": [
    "Logical Operator Examples"
   ]
  },
  {
   "cell_type": "code",
   "execution_count": 8,
   "metadata": {},
   "outputs": [
    {
     "name": "stdout",
     "output_type": "stream",
     "text": [
      "하나라도 거짓이어서 False가 됩니다.\n"
     ]
    }
   ],
   "source": [
    "# 1. AND 연산자 (and)\n",
    "\n",
    "a = True\n",
    "b = False\n",
    "\n",
    "if a and b:\n",
    "    print(\"둘 다 참입니다.\")\n",
    "else:\n",
    "    print(\"하나라도 거짓이어서 False가 됩니다.\")\n",
    "\n"
   ]
  },
  {
   "cell_type": "code",
   "execution_count": 9,
   "metadata": {},
   "outputs": [
    {
     "name": "stdout",
     "output_type": "stream",
     "text": [
      "둘 중 하나 이상 True 이므로 True입니다.\n"
     ]
    }
   ],
   "source": [
    "# 2. OR 연산자 (or)\n",
    "\n",
    "x = False\n",
    "y = True\n",
    "\n",
    "if x or y:\n",
    "    print(\"둘 중 하나 이상 True 이므로 True입니다.\")"
   ]
  },
  {
   "cell_type": "code",
   "execution_count": 10,
   "metadata": {},
   "outputs": [
    {
     "name": "stdout",
     "output_type": "stream",
     "text": [
      "flag는 False이므로 not flag는 True 입니다.\n"
     ]
    }
   ],
   "source": [
    "# 3. NOT 연산자 (not)\n",
    "\n",
    "flag = False\n",
    "\n",
    "if not flag:\n",
    "    print(\"flag는 False이므로 not flag는 True 입니다.\")"
   ]
  },
  {
   "cell_type": "code",
   "execution_count": 11,
   "metadata": {},
   "outputs": [
    {
     "name": "stdout",
     "output_type": "stream",
     "text": [
      "num은 6~9 사이거나 20입니다.\n"
     ]
    }
   ],
   "source": [
    "# 4. 복합 조건문\n",
    "\n",
    "num = 7\n",
    "\n",
    "if (num > 5 and num < 10) or num == 20:\n",
    "    print(\"num은 6~9 사이거나 20입니다.\")"
   ]
  },
  {
   "cell_type": "code",
   "execution_count": 12,
   "metadata": {},
   "outputs": [
    {
     "name": "stdout",
     "output_type": "stream",
     "text": [
      "True\n",
      "True\n"
     ]
    }
   ],
   "source": [
    "# 5. DeMorgan's Law 예제\n",
    "\n",
    "A = True\n",
    "B = False\n",
    "\n",
    "print(not (A and B))\n",
    "print((not A) or (not B))"
   ]
  },
  {
   "cell_type": "markdown",
   "metadata": {},
   "source": [
    "Function"
   ]
  },
  {
   "cell_type": "code",
   "execution_count": 1,
   "metadata": {},
   "outputs": [],
   "source": [
    "def is_even(n):\n",
    "    return n % 2 == 0\n",
    "\n"
   ]
  },
  {
   "cell_type": "code",
   "execution_count": 2,
   "metadata": {},
   "outputs": [
    {
     "name": "stdout",
     "output_type": "stream",
     "text": [
      "False\n"
     ]
    }
   ],
   "source": [
    "print(is_even(1))"
   ]
  },
  {
   "cell_type": "code",
   "execution_count": 3,
   "metadata": {},
   "outputs": [
    {
     "name": "stdout",
     "output_type": "stream",
     "text": [
      "True\n"
     ]
    }
   ],
   "source": [
    "print(is_even(2))"
   ]
  },
  {
   "cell_type": "code",
   "execution_count": null,
   "metadata": {},
   "outputs": [],
   "source": []
  }
 ],
 "metadata": {
  "kernelspec": {
   "display_name": "Python 3",
   "language": "python",
   "name": "python3"
  },
  "language_info": {
   "codemirror_mode": {
    "name": "ipython",
    "version": 3
   },
   "file_extension": ".py",
   "mimetype": "text/x-python",
   "name": "python",
   "nbconvert_exporter": "python",
   "pygments_lexer": "ipython3",
   "version": "3.12.1"
  }
 },
 "nbformat": 4,
 "nbformat_minor": 2
}
