{
 "cells": [
  {
   "cell_type": "code",
   "execution_count": null,
   "id": "0aab6513",
   "metadata": {},
   "outputs": [
    {
     "name": "stdout",
     "output_type": "stream",
     "text": [
      "Woof!\n"
     ]
    }
   ],
   "source": [
    "# 1. 가장 기본적인 클래스와 객체 생성\n",
    "\n",
    "class Dog:\n",
    "    def bark(self):\n",
    "        print(\"Woof!\")\n",
    "\n",
    "my_dog = Dog()\n",
    "my_dog.bark()"
   ]
  },
  {
   "cell_type": "code",
   "execution_count": null,
   "id": "369396c4",
   "metadata": {},
   "outputs": [
    {
     "name": "stdout",
     "output_type": "stream",
     "text": [
      "Buddy says: Woof!\n"
     ]
    }
   ],
   "source": [
    "# 2. 클래스 생성자와 인스턴스 변수\n",
    "\n",
    "class Dog:\n",
    "    def __init__(self, name):\n",
    "        self.name = name\n",
    "\n",
    "    def bark(self):\n",
    "        print(f\"{self.name} says: Woof!\")\n",
    "\n",
    "my_dog = Dog(\"Buddy\")\n",
    "my_dog.bark()\n"
   ]
  },
  {
   "cell_type": "code",
   "execution_count": null,
   "id": "f0919a94",
   "metadata": {},
   "outputs": [
    {
     "name": "stdout",
     "output_type": "stream",
     "text": [
      "Charlie says: Woof!\n",
      "Charlie is no longer hungry.\n"
     ]
    }
   ],
   "source": [
    "# 3. 클래스 메서드와 상태변화\n",
    "\n",
    "class Dog:\n",
    "    def __init__(self, name):\n",
    "        self.name = name\n",
    "        self.hungry = True\n",
    "\n",
    "    def eat(self):\n",
    "        self.hungry = False\n",
    "        print(f\"{self.name} is no longer hungry.\")\n",
    "\n",
    "    def bark(self):\n",
    "        print(f\"{self.name} says: Woof!\")\n",
    "\n",
    "my_dog = Dog(\"Charlie\")\n",
    "my_dog.bark()\n",
    "my_dog.eat()\n"
   ]
  },
  {
   "cell_type": "code",
   "execution_count": null,
   "id": "bdca6894",
   "metadata": {},
   "outputs": [
    {
     "name": "stdout",
     "output_type": "stream",
     "text": [
      "Max Canis familiaris\n",
      "Bella Canis familiaris\n"
     ]
    }
   ],
   "source": [
    "# 4. 클래스 변수와 인스턴스 변수\n",
    "\n",
    "class Dog:\n",
    "    species = \"Canis familiaris\"  # 클래스 변수\n",
    "\n",
    "    def __init__(self, name):\n",
    "        self.name = name  # 인스턴스 변수\n",
    "\n",
    "dog1 = Dog(\"Max\")\n",
    "dog2 = Dog(\"Bella\")\n",
    "\n",
    "print(dog1.name, dog1.species)\n",
    "print(dog2.name, dog2.species)\n"
   ]
  },
  {
   "cell_type": "code",
   "execution_count": null,
   "id": "2ff04b69",
   "metadata": {},
   "outputs": [
    {
     "name": "stdout",
     "output_type": "stream",
     "text": [
      "Woof!\n"
     ]
    }
   ],
   "source": [
    "# 5. 상속과 메서드 오버라이딩\n",
    "\n",
    "class Animal:\n",
    "    def speak(self):\n",
    "        print(\"Some generic animal sound\")\n",
    "\n",
    "class Dog(Animal):\n",
    "    def speak(self):\n",
    "        print(\"Woof!\")\n",
    "\n",
    "dog = Dog()\n",
    "dog.speak()\n"
   ]
  },
  {
   "cell_type": "code",
   "execution_count": null,
   "id": "f5c5f5c1",
   "metadata": {},
   "outputs": [
    {
     "name": "stdout",
     "output_type": "stream",
     "text": [
      "An animal has been created\n",
      "A dog has been created\n"
     ]
    }
   ],
   "source": [
    "# 6. 클래스 상속과 super() 사용\n",
    "\n",
    "class Animal:\n",
    "    def __init__(self):\n",
    "        print(\"An animal has been created\")\n",
    "\n",
    "class Dog(Animal):\n",
    "    def __init__(self):\n",
    "        super().__init__()\n",
    "        print(\"A dog has been created\")\n",
    "\n",
    "dog = Dog()\n"
   ]
  },
  {
   "cell_type": "code",
   "execution_count": null,
   "id": "b2bc3a8e",
   "metadata": {},
   "outputs": [
    {
     "name": "stdout",
     "output_type": "stream",
     "text": [
      "Meow!\n",
      "Woof!\n"
     ]
    }
   ],
   "source": [
    "# 7. 다형성 (Polymorphism)\n",
    "\n",
    "class Cat:\n",
    "    def speak(self):\n",
    "        print(\"Meow!\")\n",
    "\n",
    "class Dog:\n",
    "    def speak(self):\n",
    "        print(\"Woof!\")\n",
    "\n",
    "animals = [Cat(), Dog()]\n",
    "for animal in animals:\n",
    "    animal.speak()\n"
   ]
  },
  {
   "cell_type": "code",
   "execution_count": null,
   "id": "9c106411",
   "metadata": {},
   "outputs": [
    {
     "name": "stdout",
     "output_type": "stream",
     "text": [
      "8\n",
      "This is MathUtils class\n"
     ]
    }
   ],
   "source": [
    "# 8. 클래스 메서드와 정적 메서드\n",
    "\n",
    "class MathUtils:\n",
    "    @staticmethod\n",
    "    def add(a, b):\n",
    "        return a + b\n",
    "\n",
    "    @classmethod\n",
    "    def description(cls):\n",
    "        return f\"This is {cls.__name__} class\"\n",
    "\n",
    "print(MathUtils.add(3, 5))\n",
    "print(MathUtils.description())\n"
   ]
  },
  {
   "cell_type": "code",
   "execution_count": null,
   "id": "06307c1a",
   "metadata": {},
   "outputs": [
    {
     "name": "stdout",
     "output_type": "stream",
     "text": [
      "150\n"
     ]
    }
   ],
   "source": [
    "# 9. 캡슐화 (Encapsulation)\n",
    "\n",
    "class BankAccount:\n",
    "    def __init__(self, balance):\n",
    "        self.__balance = balance  # private 변수\n",
    "\n",
    "    def deposit(self, amount):\n",
    "        self.__balance += amount\n",
    "\n",
    "    def get_balance(self):\n",
    "        return self.__balance\n",
    "\n",
    "acc = BankAccount(100)\n",
    "acc.deposit(50)\n",
    "print(acc.get_balance())\n",
    "# print(acc.__balance) # 에러! 직접 접근 불가\n"
   ]
  },
  {
   "cell_type": "code",
   "execution_count": null,
   "id": "e5a65b53",
   "metadata": {},
   "outputs": [
    {
     "name": "stdout",
     "output_type": "stream",
     "text": [
      "Woof!\n"
     ]
    }
   ],
   "source": [
    "# 10. 추상 클래스와 인터페이스\n",
    "\n",
    "from abc import ABC, abstractmethod\n",
    "\n",
    "class Animal(ABC):\n",
    "    @abstractmethod\n",
    "    def speak(self):\n",
    "        pass\n",
    "\n",
    "class Dog(Animal):\n",
    "    def speak(self):\n",
    "        print(\"Woof!\")\n",
    "\n",
    "dog = Dog()\n",
    "dog.speak()\n"
   ]
  },
  {
   "cell_type": "code",
   "execution_count": null,
   "id": "7bda1337",
   "metadata": {},
   "outputs": [],
   "source": []
  }
 ],
 "metadata": {
  "kernelspec": {
   "display_name": "Python 3",
   "language": "python",
   "name": "python3"
  },
  "language_info": {
   "codemirror_mode": {
    "name": "ipython",
    "version": 3
   },
   "file_extension": ".py",
   "mimetype": "text/x-python",
   "name": "python",
   "nbconvert_exporter": "python",
   "pygments_lexer": "ipython3",
   "version": "3.11.5"
  }
 },
 "nbformat": 4,
 "nbformat_minor": 5
}
