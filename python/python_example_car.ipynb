{
 "cells": [
  {
   "cell_type": "markdown",
   "id": "47ceaf0a",
   "metadata": {},
   "source": [
    "## 객체지향 프로그래밍의 이해\n",
    "### 자동차 클래스 만들기"
   ]
  },
  {
   "cell_type": "markdown",
   "metadata": {},
   "source": [
    "### 1. 절차지향 프로그래밍(Procedural)\n",
    "절차지향은 함수(절차) 단위로 모든 것을 설계하고 상태(데이터)를 전역 변수로 두거나 함수에 직접 전달합니다."
   ]
  },
  {
   "cell_type": "code",
   "execution_count": 2,
   "id": "1f89a6f6",
   "metadata": {},
   "outputs": [],
   "source": [
    "import time\n",
    "\n",
    "# 전역 변수 (상태)\n",
    "engine_started = False\n",
    "speed = 0\n",
    "\n",
    "def start_engine():\n",
    "    global engine_started\n",
    "    if not engine_started:\n",
    "        engine_started = True\n",
    "        print(\"시동이 걸렸습니다.\")\n",
    "    else:\n",
    "        print(\"이미 시동이 걸려있습니다.\")\n",
    "\n",
    "def stop_engine():\n",
    "    global engine_started\n",
    "    global speed\n",
    "    if engine_started:\n",
    "        engine_started = False\n",
    "        speed = 0\n",
    "        print(\"시동을 껐습니다. 속도가 0으로 초기화됩니다.\")\n",
    "    else:\n",
    "        print(\"이미 시동이 꺼져있습니다.\")\n",
    "\n",
    "def accelerate():\n",
    "    global speed\n",
    "    if not engine_started:\n",
    "        print(\"시동이 걸려있지 않아 엑셀이 작동하지 않습니다.\")\n",
    "        return\n",
    "    print(\"엑셀을 밟습니다.\")\n",
    "    for _ in range(5):\n",
    "        speed += 10\n",
    "        print(f\"속도: {speed} km/h\")\n",
    "        time.sleep(0.5)\n",
    "\n",
    "def brake():\n",
    "    global speed\n",
    "    if not engine_started:\n",
    "        print(\"시동이 걸려있지 않아 브레이크가 작동하지 않습니다.\")\n",
    "        return\n",
    "    print(\"브레이크를 밟습니다.\")\n",
    "    while speed > 0:\n",
    "        speed -= 15\n",
    "        if speed < 0:\n",
    "            speed = 0\n",
    "        print(f\"속도: {speed} km/h\")\n",
    "        time.sleep(0.5)\n"
   ]
  },
  {
   "cell_type": "code",
   "execution_count": 3,
   "id": "18b67e0c",
   "metadata": {},
   "outputs": [
    {
     "name": "stdout",
     "output_type": "stream",
     "text": [
      "시동이 걸렸습니다.\n"
     ]
    }
   ],
   "source": [
    "start_engine()"
   ]
  },
  {
   "cell_type": "code",
   "execution_count": 4,
   "id": "dab11deb",
   "metadata": {},
   "outputs": [
    {
     "name": "stdout",
     "output_type": "stream",
     "text": [
      "엑셀을 밟습니다.\n",
      "속도: 10 km/h\n",
      "속도: 20 km/h\n",
      "속도: 30 km/h\n",
      "속도: 40 km/h\n",
      "속도: 50 km/h\n"
     ]
    }
   ],
   "source": [
    "accelerate()"
   ]
  },
  {
   "cell_type": "code",
   "execution_count": 6,
   "id": "d2384064",
   "metadata": {},
   "outputs": [
    {
     "name": "stdout",
     "output_type": "stream",
     "text": [
      "브레이크를 밟습니다.\n"
     ]
    }
   ],
   "source": [
    "brake()"
   ]
  },
  {
   "cell_type": "code",
   "execution_count": 7,
   "id": "3e86476b",
   "metadata": {},
   "outputs": [
    {
     "name": "stdout",
     "output_type": "stream",
     "text": [
      "시동을 껐습니다. 속도가 0으로 초기화됩니다.\n"
     ]
    }
   ],
   "source": [
    "stop_engine()"
   ]
  },
  {
   "cell_type": "code",
   "execution_count": null,
   "id": "be0b4e23",
   "metadata": {},
   "outputs": [
    {
     "name": "stdout",
     "output_type": "stream",
     "text": [
      "시동이 걸려있지 않아 엑셀이 작동하지 않습니다.\n"
     ]
    }
   ],
   "source": [
    "accelerate()"
   ]
  },
  {
   "cell_type": "code",
   "execution_count": 10,
   "id": "bbb9dc3a",
   "metadata": {},
   "outputs": [],
   "source": [
    "import time\n",
    "\n",
    "class Car:\n",
    "    def __init__(self):\n",
    "        self.engine_started = False\n",
    "        self.speed = 0\n",
    "\n",
    "    def start_engine(self):\n",
    "        if not self.engine_started:\n",
    "            self.engine_started = True\n",
    "            print(\"시동이 걸렸습니다.\")\n",
    "        else:\n",
    "            print(\"이미 시동이 걸려있습니다.\")\n",
    "\n",
    "    def stop_engine(self):\n",
    "        if self.engine_started:\n",
    "            self.engine_started = False\n",
    "            self.speed = 0\n",
    "            print(\"시동을 껐습니다. 속도가 0으로 초기화됩니다.\")\n",
    "        else:\n",
    "            print(\"이미 시동이 꺼져있습니다.\")\n",
    "\n",
    "    def accelerate(self):\n",
    "        if not self.engine_started:\n",
    "            print(\"시동이 걸려있지 않아 엑셀이 작동하지 않습니다.\")\n",
    "            return\n",
    "        print(\"엑셀을 밟습니다.\")\n",
    "        for _ in range(5):\n",
    "            self.speed += 10\n",
    "            print(f\"속도: {self.speed} km/h\")\n",
    "            time.sleep(0.5)\n",
    "\n",
    "    def brake(self):\n",
    "        if not self.engine_started:\n",
    "            print(\"시동이 걸려있지 않아 브레이크가 작동하지 않습니다.\")\n",
    "            return\n",
    "        print(\"브레이크를 밟습니다.\")\n",
    "        while self.speed > 0:\n",
    "            self.speed -= 15\n",
    "            if self.speed < 0:\n",
    "                self.speed = 0\n",
    "            print(f\"속도: {self.speed} km/h\")\n",
    "            time.sleep(0.5)"
   ]
  },
  {
   "cell_type": "code",
   "execution_count": 11,
   "id": "855da2eb",
   "metadata": {},
   "outputs": [],
   "source": [
    "\n",
    "my_car = Car()"
   ]
  },
  {
   "cell_type": "code",
   "execution_count": 12,
   "id": "9d886816",
   "metadata": {},
   "outputs": [
    {
     "name": "stdout",
     "output_type": "stream",
     "text": [
      "시동이 걸렸습니다.\n"
     ]
    }
   ],
   "source": [
    "my_car.start_engine()"
   ]
  },
  {
   "cell_type": "code",
   "execution_count": 13,
   "id": "cd847e04",
   "metadata": {},
   "outputs": [
    {
     "name": "stdout",
     "output_type": "stream",
     "text": [
      "엑셀을 밟습니다.\n",
      "속도: 10 km/h\n",
      "속도: 20 km/h\n",
      "속도: 30 km/h\n",
      "속도: 40 km/h\n",
      "속도: 50 km/h\n"
     ]
    }
   ],
   "source": [
    "my_car.accelerate()"
   ]
  },
  {
   "cell_type": "code",
   "execution_count": 14,
   "id": "8d746fca",
   "metadata": {},
   "outputs": [
    {
     "name": "stdout",
     "output_type": "stream",
     "text": [
      "브레이크를 밟습니다.\n",
      "속도: 35 km/h\n",
      "속도: 20 km/h\n",
      "속도: 5 km/h\n",
      "속도: 0 km/h\n"
     ]
    }
   ],
   "source": [
    "my_car.brake()"
   ]
  },
  {
   "cell_type": "code",
   "execution_count": 15,
   "id": "bf1d015c",
   "metadata": {},
   "outputs": [
    {
     "name": "stdout",
     "output_type": "stream",
     "text": [
      "시동을 껐습니다. 속도가 0으로 초기화됩니다.\n"
     ]
    }
   ],
   "source": [
    "my_car.stop_engine()"
   ]
  },
  {
   "cell_type": "code",
   "execution_count": 16,
   "id": "c5c2bfad",
   "metadata": {},
   "outputs": [
    {
     "name": "stdout",
     "output_type": "stream",
     "text": [
      "시동이 걸려있지 않아 엑셀이 작동하지 않습니다.\n"
     ]
    }
   ],
   "source": [
    "my_car.accelerate()"
   ]
  },
  {
   "cell_type": "code",
   "execution_count": 17,
   "id": "1cd80367",
   "metadata": {},
   "outputs": [],
   "source": [
    "your_car = Car()"
   ]
  },
  {
   "cell_type": "code",
   "execution_count": 18,
   "id": "f6b74e62",
   "metadata": {},
   "outputs": [
    {
     "name": "stdout",
     "output_type": "stream",
     "text": [
      "시동이 걸렸습니다.\n",
      "시동이 걸렸습니다.\n"
     ]
    }
   ],
   "source": [
    "my_car.start_engine()\n",
    "your_car.start_engine()"
   ]
  },
  {
   "cell_type": "code",
   "execution_count": 19,
   "id": "b1ae60aa",
   "metadata": {},
   "outputs": [
    {
     "name": "stdout",
     "output_type": "stream",
     "text": [
      "엑셀을 밟습니다.\n",
      "속도: 10 km/h\n",
      "속도: 20 km/h\n",
      "속도: 30 km/h\n",
      "속도: 40 km/h\n",
      "속도: 50 km/h\n",
      "엑셀을 밟습니다.\n",
      "속도: 10 km/h\n",
      "속도: 20 km/h\n",
      "속도: 30 km/h\n",
      "속도: 40 km/h\n",
      "속도: 50 km/h\n"
     ]
    }
   ],
   "source": [
    "my_car.accelerate()\n",
    "your_car.accelerate()"
   ]
  },
  {
   "cell_type": "code",
   "execution_count": 27,
   "id": "d80894b2",
   "metadata": {},
   "outputs": [
    {
     "name": "stdout",
     "output_type": "stream",
     "text": [
      "브레이크를 밟습니다.\n",
      "시동을 껐습니다. 속도가 0으로 초기화됩니다.\n"
     ]
    }
   ],
   "source": [
    "my_car.brake()\n",
    "your_car.stop_engine()"
   ]
  },
  {
   "cell_type": "code",
   "execution_count": 31,
   "id": "b47532eb",
   "metadata": {},
   "outputs": [
    {
     "name": "stdout",
     "output_type": "stream",
     "text": [
      "시동을 껐습니다. 속도가 0으로 초기화됩니다.\n",
      "시동을 껐습니다. 속도가 0으로 초기화됩니다.\n"
     ]
    }
   ],
   "source": [
    "my_car.stop_engine()\n",
    "your_car.stop_engine()"
   ]
  },
  {
   "cell_type": "code",
   "execution_count": null,
   "id": "3ef70f24",
   "metadata": {},
   "outputs": [],
   "source": []
  }
 ],
 "metadata": {
  "kernelspec": {
   "display_name": "Python 3",
   "language": "python",
   "name": "python3"
  },
  "language_info": {
   "codemirror_mode": {
    "name": "ipython",
    "version": 3
   },
   "file_extension": ".py",
   "mimetype": "text/x-python",
   "name": "python",
   "nbconvert_exporter": "python",
   "pygments_lexer": "ipython3",
   "version": "3.12.1"
  }
 },
 "nbformat": 4,
 "nbformat_minor": 5
}
