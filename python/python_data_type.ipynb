{
 "cells": [
  {
   "cell_type": "code",
   "execution_count": 1,
   "id": "c3900365",
   "metadata": {},
   "outputs": [
    {
     "name": "stdout",
     "output_type": "stream",
     "text": [
      "45.14\n"
     ]
    }
   ],
   "source": [
    "# 1. 숫자 (int, float)\n",
    "\n",
    "x = 42      # int\n",
    "y = 3.14    # float\n",
    "\n",
    "print(x + y)  # 45.14"
   ]
  },
  {
   "cell_type": "code",
   "execution_count": 3,
   "id": "74a35102",
   "metadata": {},
   "outputs": [
    {
     "name": "stdout",
     "output_type": "stream",
     "text": [
      "Hello, Alice!\n"
     ]
    }
   ],
   "source": [
    "# 2. 문자열 (str)\n",
    "\n",
    "name = \"Alice\"\n",
    "greet = f\"Hello, {name}!\"  # f-string\n",
    "\n",
    "print(greet)"
   ]
  },
  {
   "cell_type": "code",
   "execution_count": 4,
   "id": "34344c4a",
   "metadata": {},
   "outputs": [
    {
     "name": "stdout",
     "output_type": "stream",
     "text": [
      "[1, 2, 3, 4, 5]\n",
      "1\n"
     ]
    }
   ],
   "source": [
    "# 3. 리스트 (list)\n",
    "\n",
    "numbers = [1, 2, 3, 4]\n",
    "numbers.append(5)\n",
    "print(numbers)  # [1, 2, 3, 4, 5]\n",
    "print(numbers[0])  # 1\n"
   ]
  },
  {
   "cell_type": "code",
   "execution_count": 5,
   "id": "3c0e2555",
   "metadata": {},
   "outputs": [
    {
     "name": "stdout",
     "output_type": "stream",
     "text": [
      "x: 3, y: 4\n"
     ]
    }
   ],
   "source": [
    "# 4. 튜플 (tuple)\n",
    "\n",
    "point = (3, 4)\n",
    "print(f\"x: {point[0]}, y: {point[1]}\")\n"
   ]
  },
  {
   "cell_type": "code",
   "execution_count": 6,
   "id": "d7da2923",
   "metadata": {},
   "outputs": [
    {
     "name": "stdout",
     "output_type": "stream",
     "text": [
      "Bob\n",
      "{'name': 'Bob', 'age': 26}\n"
     ]
    }
   ],
   "source": [
    "# 5. 딕셔너리 (dict)\n",
    "\n",
    "person = {\"name\": \"Bob\", \"age\": 25}\n",
    "print(person[\"name\"])\n",
    "\n",
    "person[\"age\"] += 1\n",
    "print(person)\n"
   ]
  },
  {
   "cell_type": "code",
   "execution_count": 7,
   "id": "94911af3",
   "metadata": {},
   "outputs": [
    {
     "name": "stdout",
     "output_type": "stream",
     "text": [
      "{'apple', 'banana', 'orange'}\n"
     ]
    }
   ],
   "source": [
    "# 6. 집합 (set)\n",
    "\n",
    "fruits = {\"apple\", \"banana\", \"apple\"}\n",
    "fruits.add(\"orange\")\n",
    "print(fruits)  # 중복 제거됨\n"
   ]
  },
  {
   "cell_type": "code",
   "execution_count": 8,
   "id": "0c064c20",
   "metadata": {},
   "outputs": [
    {
     "name": "stdout",
     "output_type": "stream",
     "text": [
      "Alice knows ['Python', 'ML']\n",
      "Bob knows ['Java', 'Spring']\n"
     ]
    }
   ],
   "source": [
    "# 7. 중첩된 데이터 구조\n",
    "\n",
    "users = [\n",
    "    {\"name\": \"Alice\", \"skills\": [\"Python\", \"ML\"]},\n",
    "    {\"name\": \"Bob\", \"skills\": [\"Java\", \"Spring\"]}\n",
    "]\n",
    "\n",
    "for user in users:\n",
    "    print(user[\"name\"], \"knows\", user[\"skills\"])\n"
   ]
  },
  {
   "cell_type": "code",
   "execution_count": 10,
   "id": "88656001",
   "metadata": {},
   "outputs": [
    {
     "name": "stdout",
     "output_type": "stream",
     "text": [
      "Nothing yet.\n"
     ]
    }
   ],
   "source": [
    "# 8. NoneType (None)\n",
    "\n",
    "result = None\n",
    "\n",
    "if result is None:\n",
    "    print(\"Nothing yet.\")\n"
   ]
  },
  {
   "cell_type": "code",
   "execution_count": 11,
   "id": "449d3c7d",
   "metadata": {},
   "outputs": [
    {
     "name": "stdout",
     "output_type": "stream",
     "text": [
      "Flag is set.\n"
     ]
    }
   ],
   "source": [
    "# 9. 불린 (bool)\n",
    "\n",
    "flag = True\n",
    "if flag:\n",
    "    print(\"Flag is set.\")\n"
   ]
  },
  {
   "cell_type": "code",
   "execution_count": 12,
   "id": "35e815dc",
   "metadata": {},
   "outputs": [
    {
     "name": "stdout",
     "output_type": "stream",
     "text": [
      "3.0\n",
      "4.0\n",
      "5.0\n"
     ]
    }
   ],
   "source": [
    "# 10. 복소수 (complex)\n",
    "\n",
    "z = 3 + 4j\n",
    "print(z.real)  # 3.0\n",
    "print(z.imag)  # 4.0\n",
    "print(abs(z))  # 5.0\n"
   ]
  },
  {
   "cell_type": "code",
   "execution_count": 6,
   "id": "7354e12c",
   "metadata": {},
   "outputs": [],
   "source": [
    "def add_numbers(a, b):\n",
    "    return a + b\n"
   ]
  },
  {
   "cell_type": "code",
   "execution_count": null,
   "id": "7c16cd6b",
   "metadata": {},
   "outputs": [
    {
     "name": "stdout",
     "output_type": "stream",
     "text": [
      "3\n"
     ]
    }
   ],
   "source": [
    "\n",
    "print(add_numbers(1, 2))"
   ]
  },
  {
   "cell_type": "code",
   "execution_count": null,
   "id": "ecec1faa",
   "metadata": {},
   "outputs": [
    {
     "name": "stdout",
     "output_type": "stream",
     "text": [
      "12\n"
     ]
    }
   ],
   "source": [
    "print(add_numbers(\"1\", \"2\")) # (문자열이어도 허용)"
   ]
  },
  {
   "cell_type": "code",
   "execution_count": 9,
   "id": "a690a7dd",
   "metadata": {},
   "outputs": [
    {
     "ename": "TypeError",
     "evalue": "unsupported operand type(s) for +: 'int' and 'str'",
     "output_type": "error",
     "traceback": [
      "\u001b[31m---------------------------------------------------------------------------\u001b[39m",
      "\u001b[31mTypeError\u001b[39m                                 Traceback (most recent call last)",
      "\u001b[36mCell\u001b[39m\u001b[36m \u001b[39m\u001b[32mIn[9]\u001b[39m\u001b[32m, line 1\u001b[39m\n\u001b[32m----> \u001b[39m\u001b[32m1\u001b[39m \u001b[38;5;28mprint\u001b[39m(\u001b[43madd_numbers\u001b[49m\u001b[43m(\u001b[49m\u001b[32;43m1\u001b[39;49m\u001b[43m,\u001b[49m\u001b[43m \u001b[49m\u001b[33;43m\"\u001b[39;49m\u001b[33;43m2\u001b[39;49m\u001b[33;43m\"\u001b[39;49m\u001b[43m)\u001b[49m)   \u001b[38;5;66;03m# TypeError: unsupported operand type(s)\u001b[39;00m\n",
      "\u001b[36mCell\u001b[39m\u001b[36m \u001b[39m\u001b[32mIn[6]\u001b[39m\u001b[32m, line 2\u001b[39m, in \u001b[36madd_numbers\u001b[39m\u001b[34m(a, b)\u001b[39m\n\u001b[32m      1\u001b[39m \u001b[38;5;28;01mdef\u001b[39;00m\u001b[38;5;250m \u001b[39m\u001b[34madd_numbers\u001b[39m(a, b):\n\u001b[32m----> \u001b[39m\u001b[32m2\u001b[39m     \u001b[38;5;28;01mreturn\u001b[39;00m \u001b[43ma\u001b[49m\u001b[43m \u001b[49m\u001b[43m+\u001b[49m\u001b[43m \u001b[49m\u001b[43mb\u001b[49m\n",
      "\u001b[31mTypeError\u001b[39m: unsupported operand type(s) for +: 'int' and 'str'"
     ]
    }
   ],
   "source": [
    "print(add_numbers(1, \"2\"))   # TypeError: unsupported operand type(s)"
   ]
  },
  {
   "cell_type": "code",
   "execution_count": null,
   "id": "60df6792",
   "metadata": {},
   "outputs": [],
   "source": []
  }
 ],
 "metadata": {
  "kernelspec": {
   "display_name": "Python 3",
   "language": "python",
   "name": "python3"
  },
  "language_info": {
   "codemirror_mode": {
    "name": "ipython",
    "version": 3
   },
   "file_extension": ".py",
   "mimetype": "text/x-python",
   "name": "python",
   "nbconvert_exporter": "python",
   "pygments_lexer": "ipython3",
   "version": "3.12.1"
  }
 },
 "nbformat": 4,
 "nbformat_minor": 5
}
