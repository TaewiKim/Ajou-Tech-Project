{
 "cells": [
  {
   "cell_type": "code",
   "execution_count": 1,
   "id": "c3900365",
   "metadata": {},
   "outputs": [
    {
     "name": "stdout",
     "output_type": "stream",
     "text": [
      "45.14\n"
     ]
    }
   ],
   "source": [
    "# 1. 숫자 (int, float)\n",
    "\n",
    "x = 42      # int\n",
    "y = 3.14    # float\n",
    "\n",
    "print(x + y)  # 45.14"
   ]
  },
  {
   "cell_type": "code",
   "execution_count": 3,
   "id": "74a35102",
   "metadata": {},
   "outputs": [
    {
     "name": "stdout",
     "output_type": "stream",
     "text": [
      "Hello, Alice!\n"
     ]
    }
   ],
   "source": [
    "# 2. 문자열 (str)\n",
    "\n",
    "name = \"Alice\"\n",
    "greet = f\"Hello, {name}!\"  # f-string\n",
    "\n",
    "print(greet)"
   ]
  },
  {
   "cell_type": "code",
   "execution_count": 4,
   "id": "34344c4a",
   "metadata": {},
   "outputs": [
    {
     "name": "stdout",
     "output_type": "stream",
     "text": [
      "[1, 2, 3, 4, 5]\n",
      "1\n"
     ]
    }
   ],
   "source": [
    "# 3. 리스트 (list)\n",
    "\n",
    "numbers = [1, 2, 3, 4]\n",
    "numbers.append(5)\n",
    "print(numbers)  # [1, 2, 3, 4, 5]\n",
    "print(numbers[0])  # 1\n"
   ]
  },
  {
   "cell_type": "code",
   "execution_count": 5,
   "id": "3c0e2555",
   "metadata": {},
   "outputs": [
    {
     "name": "stdout",
     "output_type": "stream",
     "text": [
      "x: 3, y: 4\n"
     ]
    }
   ],
   "source": [
    "# 4. 튜플 (tuple)\n",
    "\n",
    "point = (3, 4)\n",
    "print(f\"x: {point[0]}, y: {point[1]}\")\n"
   ]
  },
  {
   "cell_type": "code",
   "execution_count": 6,
   "id": "d7da2923",
   "metadata": {},
   "outputs": [
    {
     "name": "stdout",
     "output_type": "stream",
     "text": [
      "Bob\n",
      "{'name': 'Bob', 'age': 26}\n"
     ]
    }
   ],
   "source": [
    "# 5. 딕셔너리 (dict)\n",
    "\n",
    "person = {\"name\": \"Bob\", \"age\": 25}\n",
    "print(person[\"name\"])\n",
    "\n",
    "person[\"age\"] += 1\n",
    "print(person)\n"
   ]
  },
  {
   "cell_type": "code",
   "execution_count": 7,
   "id": "94911af3",
   "metadata": {},
   "outputs": [
    {
     "name": "stdout",
     "output_type": "stream",
     "text": [
      "{'apple', 'banana', 'orange'}\n"
     ]
    }
   ],
   "source": [
    "# 6. 집합 (set)\n",
    "\n",
    "fruits = {\"apple\", \"banana\", \"apple\"}\n",
    "fruits.add(\"orange\")\n",
    "print(fruits)  # 중복 제거됨\n"
   ]
  },
  {
   "cell_type": "code",
   "execution_count": 8,
   "id": "0c064c20",
   "metadata": {},
   "outputs": [
    {
     "name": "stdout",
     "output_type": "stream",
     "text": [
      "Alice knows ['Python', 'ML']\n",
      "Bob knows ['Java', 'Spring']\n"
     ]
    }
   ],
   "source": [
    "# 7. 중첩된 데이터 구조\n",
    "\n",
    "users = [\n",
    "    {\"name\": \"Alice\", \"skills\": [\"Python\", \"ML\"]},\n",
    "    {\"name\": \"Bob\", \"skills\": [\"Java\", \"Spring\"]}\n",
    "]\n",
    "\n",
    "for user in users:\n",
    "    print(user[\"name\"], \"knows\", user[\"skills\"])\n"
   ]
  },
  {
   "cell_type": "code",
   "execution_count": 10,
   "id": "88656001",
   "metadata": {},
   "outputs": [
    {
     "name": "stdout",
     "output_type": "stream",
     "text": [
      "Nothing yet.\n"
     ]
    }
   ],
   "source": [
    "# 8. NoneType (None)\n",
    "\n",
    "result = None\n",
    "\n",
    "if result is None:\n",
    "    print(\"Nothing yet.\")\n"
   ]
  },
  {
   "cell_type": "code",
   "execution_count": 11,
   "id": "449d3c7d",
   "metadata": {},
   "outputs": [
    {
     "name": "stdout",
     "output_type": "stream",
     "text": [
      "Flag is set.\n"
     ]
    }
   ],
   "source": [
    "# 9. 불린 (bool)\n",
    "\n",
    "flag = True\n",
    "if flag:\n",
    "    print(\"Flag is set.\")\n"
   ]
  },
  {
   "cell_type": "code",
   "execution_count": 12,
   "id": "35e815dc",
   "metadata": {},
   "outputs": [
    {
     "name": "stdout",
     "output_type": "stream",
     "text": [
      "3.0\n",
      "4.0\n",
      "5.0\n"
     ]
    }
   ],
   "source": [
    "# 10. 복소수 (complex)\n",
    "\n",
    "z = 3 + 4j\n",
    "print(z.real)  # 3.0\n",
    "print(z.imag)  # 4.0\n",
    "print(abs(z))  # 5.0\n"
   ]
  },
  {
   "cell_type": "code",
   "execution_count": null,
   "id": "7354e12c",
   "metadata": {},
   "outputs": [],
   "source": []
  }
 ],
 "metadata": {
  "kernelspec": {
   "display_name": "Python 3",
   "language": "python",
   "name": "python3"
  },
  "language_info": {
   "codemirror_mode": {
    "name": "ipython",
    "version": 3
   },
   "file_extension": ".py",
   "mimetype": "text/x-python",
   "name": "python",
   "nbconvert_exporter": "python",
   "pygments_lexer": "ipython3",
   "version": "3.11.5"
  }
 },
 "nbformat": 4,
 "nbformat_minor": 5
}
